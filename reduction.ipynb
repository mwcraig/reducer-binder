{
 "cells": [
  {
   "cell_type": "markdown",
   "metadata": {},
   "source": [
    "## Reducer: (Put your name here)"
   ]
  },
  {
   "cell_type": "markdown",
   "metadata": {},
   "source": [
    "## Reviewer: (Put your name here)"
   ]
  },
  {
   "cell_type": "markdown",
   "metadata": {},
   "source": [
    "# jupyter notebook crash course"
   ]
  },
  {
   "cell_type": "markdown",
   "metadata": {},
   "source": [
    "1. Click on a code cell (has grey background) then, \n",
    "2. Press Shift-Enter (at the same time) to run a code cell. \n",
    "\n",
    "That will add the controls (buttons, etc) you use to do the reduction one-by-one; then use them for reduction."
   ]
  },
  {
   "cell_type": "code",
   "execution_count": null,
   "metadata": {},
   "outputs": [],
   "source": [
    "from __future__ import division, print_function\n",
    "\n",
    "import reducer.gui\n",
    "import reducer.astro_gui as astro_gui\n",
    "from reducer.image_browser import ImageBrowser\n",
    "\n",
    "from ccdproc import ImageFileCollection\n",
    "\n",
    "from reducer import __version__\n",
    "print(__version__)"
   ]
  },
  {
   "cell_type": "code",
   "execution_count": null,
   "metadata": {},
   "outputs": [],
   "source": [
    "astro_gui.DEFAULT_MEMORY_LIMIT = 3e8"
   ]
  },
  {
   "cell_type": "markdown",
   "metadata": {},
   "source": [
    "# This demo uses data pre-packaged with reducer\n",
    "\n",
    "That low-resolution dataset will expand to about 300MB when uncompressed.\n",
    "\n",
    "To use your own data, replace `reducer.notebook_dir.get_data_path()` with the path (folder location) of your data. That will not work on binder unless you upload your data."
   ]
  },
  {
   "cell_type": "code",
   "execution_count": null,
   "metadata": {},
   "outputs": [],
   "source": [
    "!wget http://physics.mnstate.edu/craig/ast366_f18.tgz\n",
    "!tar xvf ast366_f18.tgz\n",
    "!rm ast366_f18.tgz"
   ]
  },
  {
   "cell_type": "code",
   "execution_count": null,
   "metadata": {},
   "outputs": [],
   "source": [
    "# To use the sample data set:\n",
    "data_dir = 'ast366_f18'\n",
    "\n",
    "# Or, uncomment line below and modify as needed\n",
    "# data_dir = 'path/to/your/data'\n"
   ]
  },
  {
   "cell_type": "markdown",
   "metadata": {},
   "source": [
    "## The cell below controls where the reduced images are saved\n",
    "\n",
    "A dot, `.`, means the directory in which this notebook is stored, but you can set it to anything you want *except* the directory where the raw data is."
   ]
  },
  {
   "cell_type": "code",
   "execution_count": null,
   "metadata": {},
   "outputs": [],
   "source": [
    "destination_dir = '.'"
   ]
  },
  {
   "cell_type": "markdown",
   "metadata": {},
   "source": [
    "# Type any comments about this dataset here\n",
    "\n",
    "These are images of the Landolt field SA112."
   ]
  },
  {
   "cell_type": "markdown",
   "metadata": {},
   "source": [
    "# Load your data set"
   ]
  },
  {
   "cell_type": "code",
   "execution_count": null,
   "metadata": {},
   "outputs": [],
   "source": [
    "images = ImageFileCollection(location=data_dir, keywords='*')"
   ]
  },
  {
   "cell_type": "markdown",
   "metadata": {},
   "source": [
    "# Image Summary\n",
    "\n",
    "## Includes browser and image/metadata viewer\n",
    "\n",
    "This is not, strictly speaking, part of reduction, but is a handy way to take a quick look at your files. You can change the properties by which the images are organized by changing the list of `keys` below. Each key should be a keyword in the header of the FITS files."
   ]
  },
  {
   "cell_type": "code",
   "execution_count": null,
   "metadata": {},
   "outputs": [],
   "source": [
    "fits_browser = ImageBrowser(images, keys=['imagetyp', 'exposure'])\n",
    "fits_browser.display()"
   ]
  },
  {
   "cell_type": "markdown",
   "metadata": {},
   "source": [
    "# Make a master bias image"
   ]
  },
  {
   "cell_type": "markdown",
   "metadata": {},
   "source": [
    "## Reduce the bias images"
   ]
  },
  {
   "cell_type": "code",
   "execution_count": null,
   "metadata": {},
   "outputs": [],
   "source": [
    "bias_reduction = astro_gui.Reduction(description='Reduce bias frames',\n",
    "                                     toggle_type='button',\n",
    "                                     allow_bias=False,\n",
    "                                     allow_dark=False,\n",
    "                                     allow_flat=False,\n",
    "                                     input_image_collection=images,\n",
    "                                     apply_to={'imagetyp': 'bias'},\n",
    "                                     destination=destination_dir)\n",
    "bias_reduction.display()"
   ]
  },
  {
   "cell_type": "markdown",
   "metadata": {},
   "source": [
    "## Combine bias images to make master bias"
   ]
  },
  {
   "cell_type": "code",
   "execution_count": null,
   "metadata": {},
   "outputs": [],
   "source": [
    "reduced_collection = ImageFileCollection(location=destination_dir, keywords='*')\n",
    "bias_settings = astro_gui.Combiner(description=\"Master Bias Settings\",\n",
    "                                   toggle_type='button',\n",
    "                                   file_name_base='master_bias',\n",
    "                                   image_source=reduced_collection,\n",
    "                                   apply_to={'imagetyp': 'bias'},\n",
    "                                   destination=destination_dir)\n",
    "bias_settings.display()"
   ]
  },
  {
   "cell_type": "markdown",
   "metadata": {},
   "source": [
    "# Make a master dark"
   ]
  },
  {
   "cell_type": "markdown",
   "metadata": {},
   "source": [
    "## Reduce dark images"
   ]
  },
  {
   "cell_type": "code",
   "execution_count": null,
   "metadata": {},
   "outputs": [],
   "source": [
    "reduced_collection = ImageFileCollection(location=destination_dir, keywords='*')\n",
    "dark_reduction = astro_gui.Reduction(description='Reduce dark frames',\n",
    "                                     toggle_type='button',\n",
    "                                     allow_bias=True,\n",
    "                                     master_source=reduced_collection,\n",
    "                                     allow_dark=False,\n",
    "                                     allow_flat=False,\n",
    "                                     input_image_collection=images,\n",
    "                                     destination=destination_dir,\n",
    "                                     apply_to={'imagetyp': 'dark'})\n",
    "\n",
    "dark_reduction.display()"
   ]
  },
  {
   "cell_type": "markdown",
   "metadata": {},
   "source": [
    "## Combine reduced darks to make master(s)\n",
    "\n",
    "Note the ``Group by`` option in the controls that appear after you execute the cell below. `reducer` will make a master for each value of the FITS keyword listed in ``Group by``. By default this keyword is named ``exposure`` for darks, so if you have darks with exposure times of 10 sec, 15 sec and 120 sec you will get three master darks, one for each exposure time."
   ]
  },
  {
   "cell_type": "code",
   "execution_count": null,
   "metadata": {},
   "outputs": [],
   "source": [
    "reduced_collection = ImageFileCollection(location=destination_dir, keywords='*')\n",
    "\n",
    "dark = astro_gui.Combiner(description=\"Make Master Dark\",\n",
    "                          toggle_type='button',\n",
    "                          file_name_base='master_dark',\n",
    "                          group_by='exposure',\n",
    "                          image_source=reduced_collection,\n",
    "                          apply_to={'imagetyp': 'dark'},\n",
    "                          destination=destination_dir)\n",
    "dark.display()"
   ]
  },
  {
   "cell_type": "markdown",
   "metadata": {},
   "source": [
    "# Make master flats"
   ]
  },
  {
   "cell_type": "markdown",
   "metadata": {},
   "source": [
    "## Reduce flat images"
   ]
  },
  {
   "cell_type": "code",
   "execution_count": null,
   "metadata": {},
   "outputs": [],
   "source": [
    "reduced_collection = ImageFileCollection(location=destination_dir, keywords='*')\n",
    "flat_reduction = astro_gui.Reduction(description='Reduce flat frames',\n",
    "                                     toggle_type='button',\n",
    "                                     allow_bias=True,\n",
    "                                     master_source=reduced_collection,\n",
    "                                     allow_dark=True,\n",
    "                                     allow_flat=False,\n",
    "                                     input_image_collection=images,\n",
    "                                     destination=destination_dir,\n",
    "                                     apply_to={'imagetyp': 'flat'})\n",
    "\n",
    "flat_reduction.display()"
   ]
  },
  {
   "cell_type": "markdown",
   "metadata": {},
   "source": [
    "## Build masters by combining\n",
    "\n",
    "Again, note the presence of ``Group by``. If you typically use twilight flats you will almost certainly want to group by filter, not by filter and exposure."
   ]
  },
  {
   "cell_type": "code",
   "execution_count": null,
   "metadata": {},
   "outputs": [],
   "source": [
    "reduced_collection = ImageFileCollection(location=destination_dir, keywords='*')\n",
    "\n",
    "flat = astro_gui.Combiner(description=\"Make Master Flat\",\n",
    "                          toggle_type='button',\n",
    "                          file_name_base='master_flat',\n",
    "                          group_by='filter',\n",
    "                          image_source=reduced_collection,\n",
    "                          apply_to={'imagetyp': 'flat'},\n",
    "                          destination=destination_dir)\n",
    "flat.display()"
   ]
  },
  {
   "cell_type": "markdown",
   "metadata": {},
   "source": [
    "# Reduce the science images\n",
    "\n",
    "There is some autmatic matching going on here:\n",
    "\n",
    "+ If darks are subtracted a dark of the same edxposure time will be used, if available. If not, and dark scaling is enabled, the dark with the closest exposure time will be scaled to match the science image.\n",
    "+ If the dark you want to scale appears not to be bias-subtracted an error will be raised.\n",
    "+ Flats are matched by filter."
   ]
  },
  {
   "cell_type": "code",
   "execution_count": null,
   "metadata": {},
   "outputs": [],
   "source": [
    "reduced_collection = ImageFileCollection(location=destination_dir, keywords='*')\n",
    "light_reduction = astro_gui.Reduction(description='Reduce light frames',\n",
    "                                      toggle_type='button',\n",
    "                                      allow_cosmic_ray=True,\n",
    "                                      master_source=reduced_collection,\n",
    "                                      input_image_collection=images,\n",
    "                                      destination=destination_dir,\n",
    "                                      apply_to={'imagetyp': 'light'})\n",
    "\n",
    "light_reduction.display()"
   ]
  },
  {
   "cell_type": "markdown",
   "metadata": {},
   "source": [
    "## Wonder what the reduced images look like? Make another image browser..."
   ]
  },
  {
   "cell_type": "code",
   "execution_count": null,
   "metadata": {},
   "outputs": [],
   "source": [
    "reduced_collection = ImageFileCollection(location=destination_dir, keywords='*')"
   ]
  },
  {
   "cell_type": "code",
   "execution_count": null,
   "metadata": {},
   "outputs": [],
   "source": [
    "fits_browser = ImageBrowser(reduced_collection, keys=['imagetyp', 'exposure'])\n",
    "fits_browser.display()"
   ]
  },
  {
   "cell_type": "code",
   "execution_count": null,
   "metadata": {},
   "outputs": [],
   "source": []
  }
 ],
 "metadata": {
  "kernelspec": {
   "display_name": "Python 3",
   "language": "python",
   "name": "python3"
  },
  "language_info": {
   "codemirror_mode": {
    "name": "ipython",
    "version": 3
   },
   "file_extension": ".py",
   "mimetype": "text/x-python",
   "name": "python",
   "nbconvert_exporter": "python",
   "pygments_lexer": "ipython3",
   "version": "3.6.6"
  }
 },
 "nbformat": 4,
 "nbformat_minor": 1
}
